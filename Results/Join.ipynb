{
 "cells": [
  {
   "cell_type": "code",
   "execution_count": 1,
   "id": "4ca2ae4b",
   "metadata": {
    "ExecuteTime": {
     "end_time": "2022-02-05T18:22:38.321385Z",
     "start_time": "2022-02-05T18:22:33.788588Z"
    }
   },
   "outputs": [],
   "source": [
    "import scipy.io as sio\n",
    "import matplotlib.pyplot as plt"
   ]
  },
  {
   "cell_type": "code",
   "execution_count": 3,
   "id": "71b519e7",
   "metadata": {
    "ExecuteTime": {
     "end_time": "2022-01-08T07:30:51.250796Z",
     "start_time": "2022-01-08T07:30:51.246251Z"
    }
   },
   "outputs": [],
   "source": [
    "aoe = \"e\"\n",
    "dataset_og = \"DC\"\n",
    "dataset_new = dataset_og.lower()\n",
    "if aoe == \"a\":\n",
    "    og = \"Abundance\"\n",
    "    new = \"abd_map\"\n",
    "    k = \"a\"\n",
    "else:\n",
    "    og = \"Endmembers\"\n",
    "    new = \"endmem\"\n",
    "    k = \"E\""
   ]
  },
  {
   "cell_type": "code",
   "execution_count": 5,
   "id": "ddb26c70",
   "metadata": {
    "ExecuteTime": {
     "end_time": "2022-01-08T07:30:52.176180Z",
     "start_time": "2022-01-08T07:30:52.169896Z"
    }
   },
   "outputs": [],
   "source": [
    "path_og = f\"./{og}_{dataset_og}.mat\"\n",
    "path_new = f\"./{dataset_new}_{new}.mat\"\n",
    "img = sio.loadmat(path_og)\n",
    "# img_new = sio.loadmat(path_new)"
   ]
  },
  {
   "cell_type": "code",
   "execution_count": 16,
   "id": "b8e8dbae",
   "metadata": {},
   "outputs": [
    {
     "data": {
      "text/plain": [
       "'E'"
      ]
     },
     "execution_count": 16,
     "metadata": {},
     "output_type": "execute_result"
    }
   ],
   "source": [
    "k.upper()"
   ]
  },
  {
   "cell_type": "code",
   "execution_count": 47,
   "id": "47bab75a",
   "metadata": {
    "ExecuteTime": {
     "end_time": "2022-01-08T07:30:52.987719Z",
     "start_time": "2022-01-08T07:30:52.977796Z"
    }
   },
   "outputs": [
    {
     "name": "stdout",
     "output_type": "stream",
     "text": [
      "E_CYCU : (191, 6)\n",
      "E_Coll : (191, 6)\n",
      "E_GT : (191, 6)\n",
      "E_NMF : (191, 6)\n",
      "E_SiVM : (191, 6)\n",
      "E_VCA : (191, 6)\n",
      "E_uDAS : (191, 6)\n",
      "E_Tra : (191, 6)\n",
      "E_CYCU E_Coll E_GT E_NMF E_SiVM E_VCA E_uDAS\n"
     ]
    }
   ],
   "source": [
    "data = {}\n",
    "for key in img:\n",
    "    if key[0] == k:\n",
    "        print(key, \":\", img[key].shape)\n",
    "        data[key] = img[key]\n",
    "data.pop(f\"{k}_Tra\", None)\n",
    "print(*data.keys())"
   ]
  },
  {
   "cell_type": "markdown",
   "id": "cd8efb96",
   "metadata": {},
   "source": [
    "img_new中只有作者提出方法的结果，故这里img_new应该是实验中得到的"
   ]
  },
  {
   "cell_type": "code",
   "execution_count": 48,
   "id": "7de131d5",
   "metadata": {
    "ExecuteTime": {
     "end_time": "2022-01-08T07:30:54.983996Z",
     "start_time": "2022-01-08T07:30:54.977626Z"
    }
   },
   "outputs": [
    {
     "name": "stdout",
     "output_type": "stream",
     "text": [
      "(191, 6)\n",
      "E_CYCU E_Coll E_GT E_NMF E_SiVM E_VCA E_uDAS E_Tra\n"
     ]
    }
   ],
   "source": [
    "for key in img_new:\n",
    "    if key[0] == k.upper():\n",
    "        print(img_new[key].shape)\n",
    "        data[f\"{k}_Tra\"] = img_new[key]\n",
    "print(*data.keys())"
   ]
  },
  {
   "cell_type": "code",
   "execution_count": 44,
   "id": "a556ebaa",
   "metadata": {
    "ExecuteTime": {
     "end_time": "2022-01-08T07:30:57.097269Z",
     "start_time": "2022-01-08T07:30:57.091968Z"
    }
   },
   "outputs": [],
   "source": [
    "sio.savemat(path_og, data)"
   ]
  }
 ],
 "metadata": {
  "kernelspec": {
   "display_name": "Python 3.7.9 64-bit",
   "language": "python",
   "name": "python3"
  },
  "language_info": {
   "codemirror_mode": {
    "name": "ipython",
    "version": 3
   },
   "file_extension": ".py",
   "mimetype": "text/x-python",
   "name": "python",
   "nbconvert_exporter": "python",
   "pygments_lexer": "ipython3",
   "version": "3.7.9"
  },
  "vscode": {
   "interpreter": {
    "hash": "b7b9862250acc2583c7ce65db11a636026a53282eb9be05786839bc10e538367"
   }
  }
 },
 "nbformat": 4,
 "nbformat_minor": 5
}
